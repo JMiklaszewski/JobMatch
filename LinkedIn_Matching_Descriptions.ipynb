{
 "cells": [
  {
   "cell_type": "code",
   "execution_count": 49,
   "id": "c378dcb6-57da-41c9-9325-a151e7d3fc43",
   "metadata": {},
   "outputs": [],
   "source": [
    "import pandas as pd\n",
    "import numpy as np\n",
    "import os"
   ]
  },
  {
   "cell_type": "markdown",
   "id": "cd6ed600-d9ae-46b7-ba8a-7284844be307",
   "metadata": {},
   "source": [
    "- Load saved data from Phase 1"
   ]
  },
  {
   "cell_type": "code",
   "execution_count": 50,
   "id": "b7753c67-d15d-4b21-8a44-279e1b961fff",
   "metadata": {},
   "outputs": [
    {
     "data": {
      "text/html": [
       "<div>\n",
       "<style scoped>\n",
       "    .dataframe tbody tr th:only-of-type {\n",
       "        vertical-align: middle;\n",
       "    }\n",
       "\n",
       "    .dataframe tbody tr th {\n",
       "        vertical-align: top;\n",
       "    }\n",
       "\n",
       "    .dataframe thead th {\n",
       "        text-align: right;\n",
       "    }\n",
       "</style>\n",
       "<table border=\"1\" class=\"dataframe\">\n",
       "  <thead>\n",
       "    <tr style=\"text-align: right;\">\n",
       "      <th></th>\n",
       "      <th>Position</th>\n",
       "      <th>Company</th>\n",
       "      <th>Location</th>\n",
       "      <th>Status</th>\n",
       "      <th>Posted</th>\n",
       "      <th>Date Posted</th>\n",
       "      <th>URL</th>\n",
       "    </tr>\n",
       "  </thead>\n",
       "  <tbody>\n",
       "    <tr>\n",
       "      <th>0</th>\n",
       "      <td>Data Scientist</td>\n",
       "      <td>Gartner</td>\n",
       "      <td>Barcelona (On-site)</td>\n",
       "      <td>Actively recruiting</td>\n",
       "      <td>1d ago</td>\n",
       "      <td>2024-01-19 22:10:46.046425</td>\n",
       "      <td>https://www.linkedin.com/jobs/view/3809116486/...</td>\n",
       "    </tr>\n",
       "    <tr>\n",
       "      <th>1</th>\n",
       "      <td>Professional Data Analyst</td>\n",
       "      <td>Volvo Group</td>\n",
       "      <td>Wrocław</td>\n",
       "      <td>Actively recruiting</td>\n",
       "      <td>4d ago</td>\n",
       "      <td>2024-01-16 22:10:46.046425</td>\n",
       "      <td>https://www.linkedin.com/jobs/view/3803021338/...</td>\n",
       "    </tr>\n",
       "    <tr>\n",
       "      <th>2</th>\n",
       "      <td>Junior Data Analyst with Python</td>\n",
       "      <td>Unilever</td>\n",
       "      <td>Warsaw (On-site)</td>\n",
       "      <td>Actively recruiting</td>\n",
       "      <td>5d ago</td>\n",
       "      <td>2024-01-15 22:10:46.046425</td>\n",
       "      <td>https://www.linkedin.com/jobs/view/3805491270/...</td>\n",
       "    </tr>\n",
       "    <tr>\n",
       "      <th>3</th>\n",
       "      <td>Data Analyst in ESG Team</td>\n",
       "      <td>ING Hubs Poland</td>\n",
       "      <td>Warsaw Metropolitan Area (Hybrid)</td>\n",
       "      <td>NaN</td>\n",
       "      <td>5d ago</td>\n",
       "      <td>2024-01-15 22:10:46.046425</td>\n",
       "      <td>https://www.linkedin.com/jobs/view/3805428308/...</td>\n",
       "    </tr>\n",
       "    <tr>\n",
       "      <th>4</th>\n",
       "      <td>Machine Learning Scientist (m/w/d)</td>\n",
       "      <td>Bayer</td>\n",
       "      <td>Berlin (On-site)</td>\n",
       "      <td>Actively recruiting</td>\n",
       "      <td>2d ago</td>\n",
       "      <td>2024-01-18 22:10:46.046425</td>\n",
       "      <td>https://www.linkedin.com/jobs/view/3809397054/...</td>\n",
       "    </tr>\n",
       "  </tbody>\n",
       "</table>\n",
       "</div>"
      ],
      "text/plain": [
       "                             Position          Company  \\\n",
       "0                      Data Scientist          Gartner   \n",
       "1           Professional Data Analyst      Volvo Group   \n",
       "2     Junior Data Analyst with Python         Unilever   \n",
       "3            Data Analyst in ESG Team  ING Hubs Poland   \n",
       "4  Machine Learning Scientist (m/w/d)            Bayer   \n",
       "\n",
       "                            Location                Status  Posted  \\\n",
       "0                Barcelona (On-site)   Actively recruiting  1d ago   \n",
       "1                            Wrocław   Actively recruiting  4d ago   \n",
       "2                   Warsaw (On-site)   Actively recruiting  5d ago   \n",
       "3  Warsaw Metropolitan Area (Hybrid)                   NaN  5d ago   \n",
       "4                   Berlin (On-site)   Actively recruiting  2d ago   \n",
       "\n",
       "                 Date Posted  \\\n",
       "0 2024-01-19 22:10:46.046425   \n",
       "1 2024-01-16 22:10:46.046425   \n",
       "2 2024-01-15 22:10:46.046425   \n",
       "3 2024-01-15 22:10:46.046425   \n",
       "4 2024-01-18 22:10:46.046425   \n",
       "\n",
       "                                                 URL  \n",
       "0  https://www.linkedin.com/jobs/view/3809116486/...  \n",
       "1  https://www.linkedin.com/jobs/view/3803021338/...  \n",
       "2  https://www.linkedin.com/jobs/view/3805491270/...  \n",
       "3  https://www.linkedin.com/jobs/view/3805428308/...  \n",
       "4  https://www.linkedin.com/jobs/view/3809397054/...  "
      ]
     },
     "execution_count": 50,
     "metadata": {},
     "output_type": "execute_result"
    }
   ],
   "source": [
    "df = pd.read_csv('JobMatch - Saved Linked-in Jobs.csv', index_col=0, parse_dates=['Date Posted'])\n",
    "df.head()"
   ]
  },
  {
   "cell_type": "markdown",
   "id": "71236a8e-8214-40f2-9bf5-4368381c2cfe",
   "metadata": {},
   "source": [
    "- Read Linked-in login details"
   ]
  },
  {
   "cell_type": "code",
   "execution_count": 51,
   "id": "06e17ae7-d193-43cf-8b9f-460a6e633d82",
   "metadata": {},
   "outputs": [],
   "source": [
    "login_txt = open('LinkedIn - Logging Details.txt', 'r')\n",
    "MY_USERNAME = login_txt.readline().replace('Username: ', '').replace('\\n', '')\n",
    "MY_PASSWORD = login_txt.readline().replace('Password: ', '')"
   ]
  },
  {
   "cell_type": "markdown",
   "id": "03b0a0e5-d3b4-42a9-9143-70cc5877b6c2",
   "metadata": {},
   "source": [
    "## Phase 2: Quantifying jobs fit with LLMs"
   ]
  },
  {
   "cell_type": "markdown",
   "id": "1baed9b2-6f5a-4514-99bd-5a1500feb806",
   "metadata": {},
   "source": [
    "### 2.1 Get job descriptions from each link in the database"
   ]
  },
  {
   "cell_type": "code",
   "execution_count": 52,
   "id": "93e873da-8c9d-4f0e-812f-0f0e30092348",
   "metadata": {},
   "outputs": [
    {
     "data": {
      "text/plain": [
       "'https://www.linkedin.com/jobs/view/3803021338/?refId=61655319-bf6d-4c8f-8a35-eb979d5982e5&trackingId=a8uI0BBSQz260lAdlP%2BEQA%3D%3D&trk=flagship3_job_home_savedjobs'"
      ]
     },
     "execution_count": 52,
     "metadata": {},
     "output_type": "execute_result"
    }
   ],
   "source": [
    "from bs4 import BeautifulSoup\n",
    "import requests\n",
    "df.URL[1]"
   ]
  },
  {
   "cell_type": "code",
   "execution_count": 8,
   "id": "eff9f9fd-0a13-4fcb-8aca-c19525841b1b",
   "metadata": {},
   "outputs": [],
   "source": [
    "from job_match_utils import *\n",
    "\n",
    "li_match = JobMatch(username = MY_USERNAME,\n",
    "                    password = MY_PASSWORD)\n",
    "\n",
    "li_match.login()\n",
    "\n",
    "li_match.driver.get('https://www.linkedin.com/jobs/view/3785362967/?refId=0b4f4200-cf2a-40c5-ba62-e57d19a3d7f0&trackingId=BYuIlq5PROKjl1ELImutkA%3D%3D&trk=flagship3_job_home_savedjobs')\n",
    "\n",
    "page_source = li_match.driver.page_source\n",
    "soup = BeautifulSoup(page_source, 'html.parser')\n",
    "\n",
    "def get_job_details(job_soup):\n",
    "    job_details = job_soup.find('div', class_=\"job-details-jobs-unified-top-card__primary-description-without-tagline mb2\").get_text().replace('\\n', '')\n",
    "    job_details = re.split(r'\\s·\\s', job_details)\n",
    "\n",
    "    job_position = job_soup.find('div', class_=\"display-flex justify-space-between flex-wrap\").get_text().replace('\\n', '').strip()\n",
    "    out = [job_position] + job_details\n",
    "    # Sometimes jobs don't have info on status, so we'll have to handle that as well\n",
    "    return {'Position' : out[0], 'Company' : out[1], 'Location' : out[2], 'Posted' : out[3].replace('Posted ', ''), 'Status' : out[4]}\n",
    "\n",
    "get_job_details(soup)"
   ]
  },
  {
   "cell_type": "code",
   "execution_count": 53,
   "id": "5f627f93-4c6e-4218-a321-7cbe352fc519",
   "metadata": {},
   "outputs": [],
   "source": [
    "driver = webdriver.Chrome()\n",
    "# Navigate to the LinkedIn login page\n",
    "driver.get('https://www.linkedin.com/login')\n",
    "\n",
    "# Enter your email address and password\n",
    "driver.find_element(By.ID, 'username').send_keys(MY_USERNAME)\n",
    "driver.find_element(By.ID, 'password').send_keys(MY_PASSWORD)\n",
    "\n",
    "# Submit the login form\n",
    "driver.find_element(By.CSS_SELECTOR, '.login__form_action_container button').click()\n",
    "\n",
    "JOBS_URL = df.URL[1]\n",
    "driver.get(JOBS_URL)"
   ]
  },
  {
   "cell_type": "markdown",
   "id": "19d5dedf-7b20-49c8-b97f-18145ce94bfd",
   "metadata": {},
   "source": [
    "- Get the job description"
   ]
  },
  {
   "cell_type": "code",
   "execution_count": 54,
   "id": "306b59f6-854a-47e8-911b-0dc0001fb6cb",
   "metadata": {},
   "outputs": [],
   "source": [
    "import time\n",
    "def get_job_desc(url):\n",
    "    # Navigate to job url\n",
    "    driver.get(url)\n",
    "    # Get the page source\n",
    "    time.sleep(1)\n",
    "    page_source = driver.page_source\n",
    "    # Parse the HTML using Beautiful Soup\n",
    "    soup = BeautifulSoup(page_source, 'html.parser')\n",
    "    # Return job description\n",
    "    return soup.find('div', id = 'job-details').get_text().replace('\\n', '')"
   ]
  },
  {
   "cell_type": "code",
   "execution_count": 55,
   "id": "f27e53a9-31ba-4441-8bf1-f9ec072017c2",
   "metadata": {},
   "outputs": [
    {
     "name": "stderr",
     "output_type": "stream",
     "text": [
      "100%|████████████████████████████████████████████████████████████████████████████████| 103/103 [05:46<00:00,  3.36s/it]\n"
     ]
    }
   ],
   "source": [
    "from tqdm import tqdm\n",
    "\n",
    "job_desc = []\n",
    "for url in tqdm(df.URL):\n",
    "    job_desc.append(get_job_desc(url))\n",
    "#df.URL.apply(get_job_desc)"
   ]
  },
  {
   "cell_type": "code",
   "execution_count": 56,
   "id": "d87f0818-3733-4827-aafb-bdfb9f2e139e",
   "metadata": {},
   "outputs": [],
   "source": [
    "df['Job Description'] = job_desc"
   ]
  },
  {
   "cell_type": "markdown",
   "id": "dabe3f3c-0fcc-443e-8d7c-4c8583d22367",
   "metadata": {},
   "source": [
    "- Let's see the description of last job offer"
   ]
  },
  {
   "cell_type": "code",
   "execution_count": null,
   "id": "385d0658-a97f-40e0-99b6-7b11b68097e8",
   "metadata": {},
   "outputs": [],
   "source": [
    "df.tail(1)['Job Description'].values[0]"
   ]
  },
  {
   "cell_type": "markdown",
   "id": "22cba970-4689-4853-ba18-22a7b5813e5c",
   "metadata": {},
   "source": [
    "### 2.2 Load baseline document (CV) and fetch its text"
   ]
  },
  {
   "cell_type": "code",
   "execution_count": 58,
   "id": "8a495d2f-8c67-4a66-b29d-07e0df8ae68c",
   "metadata": {},
   "outputs": [],
   "source": [
    "import PyPDF2\n",
    "\n",
    "def read_pdf(file_name):\n",
    "    # Open the PDF file in binary mode\n",
    "    with open(file_name, 'rb') as file:\n",
    "        # Create a PDF file reader object\n",
    "        pdf_reader = PyPDF2.PdfReader(file)\n",
    "        \n",
    "        # Initialize an empty string to store the text\n",
    "        text = ''\n",
    "        \n",
    "        # Loop through each page in the PDF and extract the text\n",
    "        for page_num in range(len(pdf_reader.pages)):\n",
    "            page = pdf_reader.pages[page_num]\n",
    "            text += page.extract_text()\n",
    "            \n",
    "    return text"
   ]
  },
  {
   "cell_type": "code",
   "execution_count": null,
   "id": "c27f91a5-8ef5-4c98-a75e-20dce563fd2a",
   "metadata": {},
   "outputs": [],
   "source": [
    "baseline = read_pdf('J_Miklaszewski - CV.pdf').split('\\n')[:-6] # get rid of the policy statement\n",
    "baseline = ' '.join(baseline) # ensure the whitespace between inputs\n",
    "baseline"
   ]
  },
  {
   "cell_type": "markdown",
   "id": "90b87892-7bed-4cae-bf14-c019656a65e3",
   "metadata": {},
   "source": [
    "### 2.3 Text quantification - LLM embeddings"
   ]
  },
  {
   "cell_type": "code",
   "execution_count": 60,
   "id": "c5171118-72e7-4fad-b740-4b4a5d00f8c8",
   "metadata": {},
   "outputs": [],
   "source": [
    "import torch\n",
    "from scipy.spatial.distance import cosine\n",
    "from transformers import AutoTokenizer, AutoModel"
   ]
  },
  {
   "cell_type": "markdown",
   "id": "f3d531b0-6820-4baf-9f62-10b54688b29a",
   "metadata": {},
   "source": [
    "> Load the BERT LLM Model"
   ]
  },
  {
   "cell_type": "code",
   "execution_count": 43,
   "id": "d2a7b80e-5205-4284-bf5d-59d508a89656",
   "metadata": {},
   "outputs": [
    {
     "name": "stderr",
     "output_type": "stream",
     "text": [
      "tokenizer_config.json: 100%|████████████████████████████████████████████████████████| 28.0/28.0 [00:00<00:00, 2.43kB/s]\n",
      "C:\\Users\\jedre\\miniconda3\\envs\\Python_3_9\\lib\\site-packages\\huggingface_hub\\file_download.py:149: UserWarning: `huggingface_hub` cache-system uses symlinks by default to efficiently store duplicated files but your machine does not support them in C:\\Users\\jedre\\.cache\\huggingface\\hub\\models--bert-base-uncased. Caching files will still work but in a degraded version that might require more space on your disk. This warning can be disabled by setting the `HF_HUB_DISABLE_SYMLINKS_WARNING` environment variable. For more details, see https://huggingface.co/docs/huggingface_hub/how-to-cache#limitations.\n",
      "To support symlinks on Windows, you either need to activate Developer Mode or to run Python as an administrator. In order to see activate developer mode, see this article: https://docs.microsoft.com/en-us/windows/apps/get-started/enable-your-device-for-development\n",
      "  warnings.warn(message)\n",
      "config.json: 100%|████████████████████████████████████████████████████████████████████| 570/570 [00:00<00:00, 43.8kB/s]\n",
      "vocab.txt: 100%|████████████████████████████████████████████████████████████████████| 232k/232k [00:00<00:00, 3.44MB/s]\n",
      "tokenizer.json: 100%|███████████████████████████████████████████████████████████████| 466k/466k [00:00<00:00, 6.59MB/s]\n",
      "model.safetensors: 100%|████████████████████████████████████████████████████████████| 440M/440M [00:38<00:00, 11.5MB/s]\n"
     ]
    }
   ],
   "source": [
    "tokenizer = AutoTokenizer.from_pretrained('bert-base-uncased')\n",
    "model = AutoModel.from_pretrained('bert-base-uncased')"
   ]
  },
  {
   "cell_type": "markdown",
   "id": "00649f51-5e34-43bb-85b5-4f7972f4b2e8",
   "metadata": {},
   "source": [
    "> Use BERT to vectorize the text and return it's embeddings"
   ]
  },
  {
   "cell_type": "code",
   "execution_count": 44,
   "id": "d406b6bc-bc58-4d82-ae7e-4fdc6a3d5e20",
   "metadata": {},
   "outputs": [],
   "source": [
    "# Function to encode a document into a vector\n",
    "def encode_embeddings(document):\n",
    "    inputs = tokenizer(document, return_tensors='pt', truncation=True, padding=True)\n",
    "    outputs = model(**inputs)\n",
    "    return outputs.last_hidden_state.mean(dim=1).detach().numpy()"
   ]
  },
  {
   "cell_type": "code",
   "execution_count": 70,
   "id": "8fb9643a-9eb0-4407-8387-f046061ad250",
   "metadata": {},
   "outputs": [
    {
     "data": {
      "text/plain": [
       "(768,)"
      ]
     },
     "execution_count": 70,
     "metadata": {},
     "output_type": "execute_result"
    }
   ],
   "source": [
    "encode_embeddings(baseline).flatten().shape"
   ]
  },
  {
   "cell_type": "markdown",
   "id": "50e09112-a3d5-4797-9eb2-bc5c766387bf",
   "metadata": {},
   "source": [
    "### 2.4 Goodness of fit - similarity between two texts"
   ]
  },
  {
   "cell_type": "markdown",
   "id": "355c8f64-1408-4d5b-a232-5de8e4183e4c",
   "metadata": {},
   "source": [
    "> We will now use the embeddings to compute the similarity between two documents"
   ]
  },
  {
   "cell_type": "markdown",
   "id": "5233c4f8-8121-4339-979c-e731a7fa7b7a",
   "metadata": {},
   "source": [
    "- For measuring how close two texts are, we will start with cosine similarity (1 - cosine distance) which measures the spread between two vectors on multidimentional plane"
   ]
  },
  {
   "cell_type": "code",
   "execution_count": 71,
   "id": "98097183-fe5c-411b-8736-a3bcc8204502",
   "metadata": {},
   "outputs": [],
   "source": [
    "def cosine_similarity(doc1, doc2):\n",
    "    vec1 = encode_embeddings(doc1).flatten()\n",
    "    vec2 = encode_embeddings(doc2).flatten()\n",
    "    return 1 - cosine(vec1, vec2) # Return 1 - cosine distance"
   ]
  },
  {
   "cell_type": "code",
   "execution_count": 62,
   "id": "4dacd750-3af6-4c7b-b1ae-ea94516d6f14",
   "metadata": {},
   "outputs": [],
   "source": [
    "doc1 = baseline\n",
    "doc2 = df.tail(1)['Job Description'].values[0]"
   ]
  },
  {
   "cell_type": "code",
   "execution_count": 73,
   "id": "05400120-ede8-4545-a8f8-17693f6ccf99",
   "metadata": {},
   "outputs": [
    {
     "data": {
      "text/plain": [
       "0.7888648509979248"
      ]
     },
     "execution_count": 73,
     "metadata": {},
     "output_type": "execute_result"
    }
   ],
   "source": [
    "cosine_similarity(doc2, doc1)"
   ]
  },
  {
   "cell_type": "code",
   "execution_count": 74,
   "id": "6fe70c8f-3f6c-4dca-9d22-3775be4f09e3",
   "metadata": {},
   "outputs": [],
   "source": [
    "def get_cosine_similarity(row):\n",
    "    return cosine_similarity(baseline, row['Job Description'])"
   ]
  },
  {
   "cell_type": "code",
   "execution_count": 76,
   "id": "6db44afe-dbcc-4a6e-968a-e8c4c5d01227",
   "metadata": {},
   "outputs": [],
   "source": [
    "df['Cos_similarity'] = df.apply(get_cosine_similarity, axis=1)"
   ]
  },
  {
   "cell_type": "markdown",
   "id": "9883c38e-b716-4a49-86ff-bdf9751afce8",
   "metadata": {},
   "source": [
    "- We would like to complement the measure with probability based dissimilarity metric, such as KL divergence, or its symmetric alternative, Jensen-Shannon distance\n",
    "- Because this would require extracting low-dimentional features from our text embeddings with PCA or Latent Dirichlet Allocation analysis of document Topics and subsequently arbitrary decide the number of topics to map on lower-dimentional plane, we will leave cosine similarity measure for know and look if the results are meaningfull results"
   ]
  },
  {
   "cell_type": "code",
   "execution_count": 88,
   "id": "e8b95bf0-7bd5-4d2d-95ce-a06bd09ed671",
   "metadata": {},
   "outputs": [],
   "source": [
    "from scipy.special import kl_div\n",
    "from scipy.spatial.distance import jensenshannon"
   ]
  },
  {
   "cell_type": "markdown",
   "id": "dcb0bca5-e22e-4e45-a54e-db9d711f6913",
   "metadata": {},
   "source": [
    "#### Sort the results by similarity"
   ]
  },
  {
   "cell_type": "code",
   "execution_count": 93,
   "id": "f5adc15b-08c3-4d40-b874-4d0d25626f55",
   "metadata": {},
   "outputs": [
    {
     "data": {
      "text/html": [
       "<div>\n",
       "<style scoped>\n",
       "    .dataframe tbody tr th:only-of-type {\n",
       "        vertical-align: middle;\n",
       "    }\n",
       "\n",
       "    .dataframe tbody tr th {\n",
       "        vertical-align: top;\n",
       "    }\n",
       "\n",
       "    .dataframe thead th {\n",
       "        text-align: right;\n",
       "    }\n",
       "</style>\n",
       "<table border=\"1\" class=\"dataframe\">\n",
       "  <thead>\n",
       "    <tr style=\"text-align: right;\">\n",
       "      <th></th>\n",
       "      <th>Position</th>\n",
       "      <th>Company</th>\n",
       "      <th>Location</th>\n",
       "      <th>Status</th>\n",
       "      <th>Posted</th>\n",
       "      <th>Date Posted</th>\n",
       "      <th>URL</th>\n",
       "      <th>Job Description</th>\n",
       "      <th>Cos_similarity</th>\n",
       "    </tr>\n",
       "  </thead>\n",
       "  <tbody>\n",
       "    <tr>\n",
       "      <th>13</th>\n",
       "      <td>Senior Data Scientist</td>\n",
       "      <td>EY</td>\n",
       "      <td>Warsaw (On-site)</td>\n",
       "      <td>Actively recruiting</td>\n",
       "      <td>1w ago</td>\n",
       "      <td>NaT</td>\n",
       "      <td>https://www.linkedin.com/jobs/view/3791931828/...</td>\n",
       "      <td>About the job             Let us...</td>\n",
       "      <td>0.926469</td>\n",
       "    </tr>\n",
       "    <tr>\n",
       "      <th>17</th>\n",
       "      <td>Senior Data Scientist</td>\n",
       "      <td>EY</td>\n",
       "      <td>Wrocław (On-site)</td>\n",
       "      <td>Be an early applicant</td>\n",
       "      <td>1w ago</td>\n",
       "      <td>NaT</td>\n",
       "      <td>https://www.linkedin.com/jobs/view/3791932692/...</td>\n",
       "      <td>About the job             Let us...</td>\n",
       "      <td>0.926469</td>\n",
       "    </tr>\n",
       "    <tr>\n",
       "      <th>39</th>\n",
       "      <td>Senior Data Scientist, Delivery</td>\n",
       "      <td>Bolt</td>\n",
       "      <td>Berlin</td>\n",
       "      <td>Actively recruiting</td>\n",
       "      <td>1w ago</td>\n",
       "      <td>NaT</td>\n",
       "      <td>https://www.linkedin.com/jobs/view/3789363462/...</td>\n",
       "      <td>About the job             We are...</td>\n",
       "      <td>0.925513</td>\n",
       "    </tr>\n",
       "    <tr>\n",
       "      <th>23</th>\n",
       "      <td>Data Scientist</td>\n",
       "      <td>Aimsun</td>\n",
       "      <td>Barcelona (Hybrid)</td>\n",
       "      <td>NaN</td>\n",
       "      <td>Actively recruiting</td>\n",
       "      <td>NaT</td>\n",
       "      <td>https://www.linkedin.com/jobs/view/3804071816/...</td>\n",
       "      <td>About the job             Locati...</td>\n",
       "      <td>0.924985</td>\n",
       "    </tr>\n",
       "    <tr>\n",
       "      <th>88</th>\n",
       "      <td>Data Scientist</td>\n",
       "      <td>Winged IT</td>\n",
       "      <td>Warsaw (Remote)</td>\n",
       "      <td>Actively recruiting</td>\n",
       "      <td>1mo ago</td>\n",
       "      <td>NaT</td>\n",
       "      <td>https://www.linkedin.com/jobs/view/3782331765/...</td>\n",
       "      <td>About the job             Employ...</td>\n",
       "      <td>0.923561</td>\n",
       "    </tr>\n",
       "    <tr>\n",
       "      <th>...</th>\n",
       "      <td>...</td>\n",
       "      <td>...</td>\n",
       "      <td>...</td>\n",
       "      <td>...</td>\n",
       "      <td>...</td>\n",
       "      <td>...</td>\n",
       "      <td>...</td>\n",
       "      <td>...</td>\n",
       "      <td>...</td>\n",
       "    </tr>\n",
       "    <tr>\n",
       "      <th>44</th>\n",
       "      <td>Data Scientist</td>\n",
       "      <td>SDG Group España</td>\n",
       "      <td>Spain (Remote)</td>\n",
       "      <td>NaN</td>\n",
       "      <td>1w ago</td>\n",
       "      <td>NaT</td>\n",
       "      <td>https://www.linkedin.com/jobs/view/3750112164/...</td>\n",
       "      <td>About the job             ¡Hola ...</td>\n",
       "      <td>0.652834</td>\n",
       "    </tr>\n",
       "    <tr>\n",
       "      <th>4</th>\n",
       "      <td>Machine Learning Scientist (m/w/d)</td>\n",
       "      <td>Bayer</td>\n",
       "      <td>Berlin (On-site)</td>\n",
       "      <td>Actively recruiting</td>\n",
       "      <td>2d ago</td>\n",
       "      <td>2024-01-18 22:10:46.046425</td>\n",
       "      <td>https://www.linkedin.com/jobs/view/3809397054/...</td>\n",
       "      <td>About the job             Bei Ba...</td>\n",
       "      <td>0.636589</td>\n",
       "    </tr>\n",
       "    <tr>\n",
       "      <th>63</th>\n",
       "      <td>Data Scientist ML/AI</td>\n",
       "      <td>Swedish Pensions Agency</td>\n",
       "      <td>Stockholm (Hybrid)</td>\n",
       "      <td>NaN</td>\n",
       "      <td>2w ago</td>\n",
       "      <td>NaT</td>\n",
       "      <td>https://www.linkedin.com/jobs/view/3797818312/...</td>\n",
       "      <td>About the job             Pensio...</td>\n",
       "      <td>0.618433</td>\n",
       "    </tr>\n",
       "    <tr>\n",
       "      <th>26</th>\n",
       "      <td>Quantitative Researcher</td>\n",
       "      <td>The Cocktail</td>\n",
       "      <td>Madrid (Hybrid)</td>\n",
       "      <td>NaN</td>\n",
       "      <td>Actively recruiting</td>\n",
       "      <td>NaT</td>\n",
       "      <td>https://www.linkedin.com/jobs/view/3774729027/...</td>\n",
       "      <td>About the job             Así so...</td>\n",
       "      <td>0.595127</td>\n",
       "    </tr>\n",
       "    <tr>\n",
       "      <th>78</th>\n",
       "      <td>Data Scientist [Game Intelligence]</td>\n",
       "      <td>Massive Entertainment - A Ubisoft Studio</td>\n",
       "      <td>Malmö (Hybrid)</td>\n",
       "      <td>NaN</td>\n",
       "      <td>Your profile matches this job</td>\n",
       "      <td>NaT</td>\n",
       "      <td>https://www.linkedin.com/jobs/view/3778229122/...</td>\n",
       "      <td>About the job</td>\n",
       "      <td>0.334606</td>\n",
       "    </tr>\n",
       "  </tbody>\n",
       "</table>\n",
       "<p>103 rows × 9 columns</p>\n",
       "</div>"
      ],
      "text/plain": [
       "                              Position  \\\n",
       "13               Senior Data Scientist   \n",
       "17               Senior Data Scientist   \n",
       "39     Senior Data Scientist, Delivery   \n",
       "23                      Data Scientist   \n",
       "88                      Data Scientist   \n",
       "..                                 ...   \n",
       "44                      Data Scientist   \n",
       "4   Machine Learning Scientist (m/w/d)   \n",
       "63                Data Scientist ML/AI   \n",
       "26             Quantitative Researcher   \n",
       "78  Data Scientist [Game Intelligence]   \n",
       "\n",
       "                                     Company            Location  \\\n",
       "13                                        EY    Warsaw (On-site)   \n",
       "17                                        EY   Wrocław (On-site)   \n",
       "39                                      Bolt              Berlin   \n",
       "23                                    Aimsun  Barcelona (Hybrid)   \n",
       "88                                 Winged IT     Warsaw (Remote)   \n",
       "..                                       ...                 ...   \n",
       "44                          SDG Group España      Spain (Remote)   \n",
       "4                                      Bayer    Berlin (On-site)   \n",
       "63                   Swedish Pensions Agency  Stockholm (Hybrid)   \n",
       "26                              The Cocktail     Madrid (Hybrid)   \n",
       "78  Massive Entertainment - A Ubisoft Studio      Malmö (Hybrid)   \n",
       "\n",
       "                    Status                          Posted  \\\n",
       "13     Actively recruiting                          1w ago   \n",
       "17   Be an early applicant                          1w ago   \n",
       "39     Actively recruiting                          1w ago   \n",
       "23                     NaN             Actively recruiting   \n",
       "88     Actively recruiting                         1mo ago   \n",
       "..                     ...                             ...   \n",
       "44                     NaN                          1w ago   \n",
       "4      Actively recruiting                          2d ago   \n",
       "63                     NaN                          2w ago   \n",
       "26                     NaN             Actively recruiting   \n",
       "78                     NaN   Your profile matches this job   \n",
       "\n",
       "                  Date Posted  \\\n",
       "13                        NaT   \n",
       "17                        NaT   \n",
       "39                        NaT   \n",
       "23                        NaT   \n",
       "88                        NaT   \n",
       "..                        ...   \n",
       "44                        NaT   \n",
       "4  2024-01-18 22:10:46.046425   \n",
       "63                        NaT   \n",
       "26                        NaT   \n",
       "78                        NaT   \n",
       "\n",
       "                                                  URL  \\\n",
       "13  https://www.linkedin.com/jobs/view/3791931828/...   \n",
       "17  https://www.linkedin.com/jobs/view/3791932692/...   \n",
       "39  https://www.linkedin.com/jobs/view/3789363462/...   \n",
       "23  https://www.linkedin.com/jobs/view/3804071816/...   \n",
       "88  https://www.linkedin.com/jobs/view/3782331765/...   \n",
       "..                                                ...   \n",
       "44  https://www.linkedin.com/jobs/view/3750112164/...   \n",
       "4   https://www.linkedin.com/jobs/view/3809397054/...   \n",
       "63  https://www.linkedin.com/jobs/view/3797818312/...   \n",
       "26  https://www.linkedin.com/jobs/view/3774729027/...   \n",
       "78  https://www.linkedin.com/jobs/view/3778229122/...   \n",
       "\n",
       "                                      Job Description  Cos_similarity  \n",
       "13                About the job             Let us...        0.926469  \n",
       "17                About the job             Let us...        0.926469  \n",
       "39                About the job             We are...        0.925513  \n",
       "23                About the job             Locati...        0.924985  \n",
       "88                About the job             Employ...        0.923561  \n",
       "..                                                ...             ...  \n",
       "44                About the job             ¡Hola ...        0.652834  \n",
       "4                 About the job             Bei Ba...        0.636589  \n",
       "63                About the job             Pensio...        0.618433  \n",
       "26                About the job             Así so...        0.595127  \n",
       "78                        About the job                      0.334606  \n",
       "\n",
       "[103 rows x 9 columns]"
      ]
     },
     "execution_count": 93,
     "metadata": {},
     "output_type": "execute_result"
    }
   ],
   "source": [
    "df.sort_values(by='Cos_similarity', ascending=False)"
   ]
  },
  {
   "cell_type": "markdown",
   "id": "d5d7856a-aa65-45d5-8422-a5b96f85ccc6",
   "metadata": {},
   "source": [
    "- Now we need to add the methods for dissimiliarity measurements to the JobMatch pipeline\n",
    "- Once that's done, we will also add:"
   ]
  },
  {
   "cell_type": "markdown",
   "id": "2c063adb-95a2-4e2e-a422-4e0a7cff64fc",
   "metadata": {},
   "source": [
    "> LDA / PCA analysis of the baseline (CV) document"
   ]
  },
  {
   "cell_type": "markdown",
   "id": "123b0803-eb8a-453f-825a-15cd05bc65e4",
   "metadata": {},
   "source": [
    "> Jensen-Shannon divergence analysis between the baseline document and description of each linked-in job"
   ]
  }
 ],
 "metadata": {
  "kernelspec": {
   "display_name": "Python 3 (ipykernel)",
   "language": "python",
   "name": "python3"
  },
  "language_info": {
   "codemirror_mode": {
    "name": "ipython",
    "version": 3
   },
   "file_extension": ".py",
   "mimetype": "text/x-python",
   "name": "python",
   "nbconvert_exporter": "python",
   "pygments_lexer": "ipython3",
   "version": "3.9.15"
  }
 },
 "nbformat": 4,
 "nbformat_minor": 5
}
